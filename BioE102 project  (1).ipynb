{
 "cells": [
  {
   "cell_type": "code",
   "execution_count": 663,
   "id": "91a89e4a",
   "metadata": {},
   "outputs": [],
   "source": [
    "import numpy as np\n",
    "import matplotlib.pyplot as plt\n",
    "from sympy import *"
   ]
  },
  {
   "cell_type": "markdown",
   "id": "7530e838",
   "metadata": {},
   "source": [
    "# Insect Wing Deformation"
   ]
  },
  {
   "cell_type": "markdown",
   "id": "7b8886e9",
   "metadata": {},
   "source": [
    "**Background:**\n",
    "\n",
    "Wing is modeled as a cantilever beam with distributed load and a joint where the material property changes.\n",
    "\n",
    "**Purpose:**  \n",
    "\n",
    "The purpose of this program is to model an insect's wing that has minimized stress while optimizing the material properties to allow for some deformation.\n",
    "\n",
    "**Assumptions made:**\n",
    "   * uniform mass distribution\n",
    "   * isotropic material \n",
    "   * inertial forces are roughly equal in magnitude to aeordynamic forces (air load)\n",
    "  \n",
    "    \n"
   ]
  },
  {
   "cell_type": "markdown",
   "id": "9fb454f0",
   "metadata": {},
   "source": [
    "Constants:"
   ]
  },
  {
   "cell_type": "code",
   "execution_count": 664,
   "id": "c37fcaa3",
   "metadata": {},
   "outputs": [],
   "source": [
    "wingLength = 0.09 # units = m\n",
    "jointStartLocation = 0.04\n",
    "jointSize = 0.001\n",
    "wingRadius = 0.001 # units = m\n",
    "angleOfWing = 0.2\n",
    "load = -240\n",
    "young = 610000000  # E for chitin \n",
    "j_young = 2000000 #units = N/m^2 / E for resilin\n",
    "air_load = -14.43 # \n",
    "wingWeight = 240 #units = ug\n",
    "minimumStress = 1\n",
    "thresholdStress = 3\n",
    "maxDeflection = 0.01"
   ]
  },
  {
   "cell_type": "code",
   "execution_count": 665,
   "id": "33074335",
   "metadata": {},
   "outputs": [],
   "source": [
    "def wingSim(wingWeight, young, j_young, air_load, wingLength, jointStartLocation, jointSize, wingRadius, angleOfWing, minimumStress, thresholdStress):\n",
    "    daMoment = getSecondMoment(wingRadius)\n",
    "    wDistrib = wingWeight/ wingLength\n",
    "    totalD = wDistrib + air_load\n",
    "    #incorporating the angle change\n",
    "    trueTotalD = totalD * cos(angleOfWing)\n",
    "    themSupports = getSupportReactions(trueTotalD, wingLength)\n",
    "    listODeflections = getDeflection(young, j_young, trueTotalD, wingLength, jointStartLocation, jointSize, daMoment)\n",
    "    x, y = symbols('x'), symbols('y')\n",
    "    momentExpr = -trueTotalD * ((wingLength - x)**2)*(1/2)\n",
    "    maxMoment = momentExpr.subs(x, 0) \n",
    "#     print(maxMoment)\n",
    "    #getting best radiuses for the given wingLength\n",
    "    rangeOfRadii = getOptimalradius(maxMoment, minimumStress, thresholdStress, wingLength)\n",
    "    print(\"Minimum radius: \", rangeOfRadii[0])\n",
    "    print(\"Maximum radius: \", rangeOfRadii[1])\n",
    "\n",
    "    #getting best wing lengths for given radius\n",
    "    w = symbols('w')\n",
    "    maxMoment2 = -trueTotalD * ((w) ** 2) * 1/2\n",
    "    \n",
    "    rangeOfWings = getOptimalWingLength(maxMoment2, minimumStress, thresholdStress, wingRadius)\n",
    "    \n",
    "    \n",
    "    #getYoung's Moduli\n",
    "    getBestMaterials(rangeOfRadii, rangeOfWings, jointStartLocation, jointSize, totalD, maxDeflection, young)\n",
    "    \n",
    "    #choosing the positive root\n",
    "    print(\"Minimum wing length: \", rangeOfWings[0])\n",
    "    print(\"Maximum wing length: \", rangeOfWings[1])"
   ]
  },
  {
   "cell_type": "code",
   "execution_count": 666,
   "id": "abdaebb9",
   "metadata": {},
   "outputs": [],
   "source": [
    "def getBestMaterials(rangeOradii, rangeOwings, jointStart, jointSize, load, maxDeflection, young):\n",
    "    minLength = rangeOwings[0]\n",
    "    maxLength = rangeOwings[1]\n",
    "    minRadius = rangeOradii[0]\n",
    "    maxRadius = rangeOradii[1]\n",
    "    j, x = symbols('j'), symbols('x')\n",
    "    #for minimum stress side of deflection with the shortest wing and largest radius\n",
    "    minMoment = getSecondMoment(maxRadius)\n",
    "    minDeflections = getDeflection(j, j_young, load, minLength, jointStart, jointSize, minMoment)\n",
    "#     print(minDeflections[2])\n",
    "    deflectionAtEnd =  minDeflections[2].subs(x, minLength)\n",
    "#     print(deflectionAtEnd)\n",
    "    \n",
    "    minimumYoung1 = solve(deflectionAtEnd - maxDeflection, j)[0]\n",
    "    print(\"Minimum Young's Modulus: \", minimumYoung1)\n",
    "#     print(\"Min Bending stiffness (at the tip): \", minimumYoung1*minMoment)\n",
    "\n",
    "    maxMoment = getSecondMoment(minRadius)\n",
    "    maxDeflections = getDeflection(j, j_young, load, maxLength, jointStart, jointSize, maxMoment)\n",
    "\n",
    "    \n",
    "    deflectionAtEnd =  maxDeflections[2].subs(x, maxLength)\n",
    "    minimumYoung2 = solve(deflectionAtEnd - maxDeflection, j)[0]\n",
    "    print(\"Maximum Young's Modulus: \", minimumYoung2)\n",
    "    print(\"Bending stiffness (at the tip, EI(L)): \", minimumYoung2*maxMoment)\n",
    "    \n",
    "    \n",
    "    deflectionAtBase =  minDeflections[2].subs(x, 0)\n",
    "    otherYoung1 = solve(deflectionAtBase, j)[0]\n",
    "    print(\"Bending stiffness (at the wing base, EI(0)-->zero deflection): \", otherYoung1*maxMoment)\n",
    "    "
   ]
  },
  {
   "cell_type": "code",
   "execution_count": 667,
   "id": "31e8cfbb",
   "metadata": {},
   "outputs": [],
   "source": [
    "def getSupportReactions(totalD, wingLength):\n",
    "    x, y = symbols('x'), symbols('y')\n",
    "    #since there are no forces in the x-direction, the support in the d direction would be 0\n",
    "    xSup = 0\n",
    "    ySup = integrate(totalD, (x, 0, wingLength)) \n",
    "\n",
    "    #we can integrate the total distribution over the length of the wing to find the moment\n",
    "    mSup = integrate(totalD * x, (x, 0, wingLength))\n",
    "    return [xSup, ySup, mSup]"
   ]
  },
  {
   "cell_type": "code",
   "execution_count": 668,
   "id": "4bbaf09e",
   "metadata": {},
   "outputs": [],
   "source": [
    "def getOptimalWingLength(maxMoment, minimumStress, threshold, radius):\n",
    "    w = symbols ('w')\n",
    "\n",
    "    ratio = radius / getSecondMoment(radius)\n",
    "    \n",
    "    possibleStresses = -(ratio * maxMoment)\n",
    "    upperBound = solve(possibleStresses - threshold, w)\n",
    "    lowerBound = solve(possibleStresses - minimumStress, w)\n",
    "\n",
    "\n",
    "    return [lowerBound[1], upperBound[1]]"
   ]
  },
  {
   "cell_type": "code",
   "execution_count": 669,
   "id": "8831cac7",
   "metadata": {},
   "outputs": [],
   "source": [
    "def getOptimalradius(maxMoment1, minimumStress, threshold, wingLength):\n",
    "    #maximum stress is at the tip of the cross section\n",
    "    \n",
    "    r = symbols('r')\n",
    "    moment = (pi/4) * r **4\n",
    "    ratioExpr = r/moment\n",
    "    #print(ratioExpr)\n",
    "    #maximum moment is at the tip of the wing since the derivative of the moemnt \n",
    "    #is linear with a y-intercept at the orign. \n",
    "\n",
    "    #ratio of the radius of the wing to its moment.\n",
    "    \n",
    "    \n",
    "    #relationship between stress and moment\n",
    "    possibleMaxStresses = -(ratioExpr * maxMoment1)\n",
    "    #print(possibleMaxStresses)\n",
    "    \n",
    "    #getting lower and upper bounds by seeing what the optimum radius is when possibleMaxStress= minimumStress or = threshold\n",
    "    upperBound = solve((possibleMaxStresses - minimumStress), r)\n",
    "    lowerBound = solve((possibleMaxStresses - threshold), r)\n",
    "    #print(lowerBound)\n",
    "    #print(upperBound)\n",
    "    return [lowerBound[0], upperBound[0]]\n"
   ]
  },
  {
   "cell_type": "code",
   "execution_count": 670,
   "id": "41624f3a",
   "metadata": {},
   "outputs": [],
   "source": [
    "def getSupportReactions(totalD, wingLength):\n",
    "    x, y = symbols('x'), symbols('y')\n",
    "    #since there are no forces in the x-direction, the support in the d direction would be 0\n",
    "    xSup = 0\n",
    "    ySup = integrate(totalD, (x, 0, wingLength)) \n",
    "\n",
    "    #we can integrate the total distribution over the length of the wing to find the moment\n",
    "    mSup = integrate(totalD * x, (x, 0, wingLength))\n",
    "    return [xSup, ySup, mSup]"
   ]
  },
  {
   "cell_type": "code",
   "execution_count": 671,
   "id": "9977191e",
   "metadata": {},
   "outputs": [],
   "source": [
    "def getDeflection(young, j_young, trueTotalD, wingLength, jointStartLocation, jointSize, daMoment):\n",
    "    \n",
    "    x, y = symbols('x'), symbols('y')\n",
    "    #Calculating Moment. Suppose cut at x. Only one cut necessary since the moment doesn't depend on material properties.\n",
    "    momentExpr = -trueTotalD * ((wingLength - x)**2)*(1/2)\n",
    "    #print(momentExpr)\n",
    "\n",
    "    #between x = 0 to x = jointStartLocation (assuming JointStartLocation < wingLength)\n",
    "    deflectionExpr1 = calculateDeflection(young, momentExpr, daMoment)\n",
    "    #both constants of integration = 0 since at x = 0, v(x) = 0 and dv/dx = 0\n",
    "\n",
    "    #at the joint (between jointStartLocation and (jointStartLocation + jointLength))\n",
    "    draftdeflectionExpr2 = calculateDeflection(j_young, momentExpr, daMoment)\n",
    "    #at x = jointStartLocation, d(deflectionExpr1)/dx = d(deflectionExpr2), so the first constant is them subtracted from each other\n",
    "    c1 = diff(deflectionExpr1, x).subs(x, jointStartLocation) - diff(draftdeflectionExpr2, x).subs(x, jointStartLocation)\n",
    "    draftdeflectionExpr2 += c1 * x\n",
    "    #at x = jointStartLocation, deflectionExpr1 = deflectionExpr2, so the second constant is them subtracted from each other\n",
    "    c2 = deflectionExpr1.subs(x, jointStartLocation) - draftdeflectionExpr2.subs(x, jointStartLocation)\n",
    "    deflectionExpr2 = draftdeflectionExpr2 + c2\n",
    "\n",
    "    #calcuting deflection between (jointStartLocation + jointLength) and the end (wingLength)\n",
    "    draftdeflectionExpr3 = calculateDeflection(young, momentExpr, daMoment)\n",
    "    #at x = jointStartLocation + jointSize, d(deflectionExpr1)/dx = d(deflectionExpr2), so the third constant is them subtracted from each other\n",
    "    c3 = diff(deflectionExpr2, x).subs(x, (jointStartLocation + jointSize)) - diff(draftdeflectionExpr3, x).subs(x, (jointStartLocation + jointSize))\n",
    "    draftdeflectionExpr2 += c3 * x\n",
    "    #at x = jointStartLocation + jointSize, deflectionExpr1 = deflectionExpr2, so the fourth constant is them subtracted from each other\n",
    "    c4 = deflectionExpr2.subs(x, (jointStartLocation + jointSize)) - draftdeflectionExpr3.subs(x, (jointStartLocation + jointSize))\n",
    "    deflectionExpr3 = draftdeflectionExpr3 + c4\n",
    "    #print(deflectionExpr1)\n",
    "    #print(deflectionExpr2)\n",
    "    #print(deflectionExpr3)\n",
    "    return [deflectionExpr1, deflectionExpr2, deflectionExpr3]\n"
   ]
  },
  {
   "cell_type": "code",
   "execution_count": 672,
   "id": "71d3af18",
   "metadata": {},
   "outputs": [],
   "source": [
    "def getSecondMoment(wingRadius):\n",
    "    return (np.pi/4 ) * (wingRadius ** 4)"
   ]
  },
  {
   "cell_type": "code",
   "execution_count": 673,
   "id": "b00cb949",
   "metadata": {},
   "outputs": [],
   "source": [
    "def calculateDeflection(young, momentExpression, daSecondMoment):\n",
    "    #integrate twice since EI * d^2(v)/dx^2 = M(x)     \n",
    "    return (1/(young * daSecondMoment)) * integrate(integrate(momentExpression))"
   ]
  },
  {
   "cell_type": "code",
   "execution_count": 674,
   "id": "14e5413b",
   "metadata": {},
   "outputs": [
    {
     "name": "stdout",
     "output_type": "stream",
     "text": [
      "Minimum radius:  1.64703911685085\n",
      "Maximum radius:  2.37544145855763\n",
      "Minimum Young's Modulus:  4.31331719153434e-6\n",
      "Maximum Young's Modulus:  1.86621129791041e-5\n",
      "Bending stiffness (at the tip, EI(L)):  0.000107861473883809\n",
      "Bending stiffness (at the wing base, EI(0)-->zero deflection):  11559406.3763944\n",
      "Minimum wing length:  7.77366840828163e-7\n",
      "Maximum wing length:  1.34643886443369e-6\n"
     ]
    }
   ],
   "source": [
    "wingSim(wingWeight, young, j_young, air_load, wingLength, jointStartLocation, jointSize, wingRadius, angleOfWing, minimumStress, thresholdStress)"
   ]
  }
 ],
 "metadata": {
  "kernelspec": {
   "display_name": "Python 3 (ipykernel)",
   "language": "python",
   "name": "python3"
  },
  "language_info": {
   "codemirror_mode": {
    "name": "ipython",
    "version": 3
   },
   "file_extension": ".py",
   "mimetype": "text/x-python",
   "name": "python",
   "nbconvert_exporter": "python",
   "pygments_lexer": "ipython3",
   "version": "3.9.12"
  }
 },
 "nbformat": 4,
 "nbformat_minor": 5
}
