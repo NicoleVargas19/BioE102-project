{
 "cells": [
  {
   "cell_type": "code",
   "execution_count": 1,
   "id": "91a89e4a",
   "metadata": {},
   "outputs": [],
   "source": [
    "import numpy as np\n",
    "from sympy import *"
   ]
  },
  {
   "cell_type": "markdown",
   "id": "7530e838",
   "metadata": {},
   "source": [
    "# Modeling an Insect's wing"
   ]
  },
  {
   "cell_type": "markdown",
   "id": "7b8886e9",
   "metadata": {},
   "source": [
    "**Background:**\n",
    "\n",
    "Wing is modeled as a cantilever beam with distributed load and a joint where the material property changes.\n",
    "\n",
    "Deflection dependent on:\n",
    "\n",
    "    -length of beam\n",
    "    -load\n",
    "    -EI (Young's modulus, wing's second moment of area) (bending stiffness)\n",
    "\n",
    "\n",
    "\n"
   ]
  },
  {
   "cell_type": "markdown",
   "id": "e4d818db",
   "metadata": {},
   "source": [
    "**Purpose:**  \n",
    "\n",
    "The purpose is to model an insect's wing that has minimized stress while allowing for some deformation as it has been shown that a flexible wing has beneficial aspects to it like reducing energy consumption and increasing lift forces. \n",
    "\n",
    "Trying to choose a model that we think would make an efficient micro aerial vehicle \n",
    "\n",
    "Also for the property materials, use resilin/chitin inspired from insect's biology \n",
    "\n",
    "minimizing stress/keeping it under a threshold while allowing for a reasonable deformation that is beneficial\n",
    "\n",
    "--discuss what the best model + bending stiffess constants (or varying EI(x)) could be for an efficient micro aerial vehicle \n",
    "\n",
    "\n"
   ]
  },
  {
   "cell_type": "markdown",
   "id": "b9f4073c",
   "metadata": {},
   "source": [
    "**Assumptions made:**\n",
    "   * uniform mass distribution\n",
    "   * isotropic material \n",
    "   * inertial forces are roughly equal in magnitude to aeordynamic forces (air load)\n",
    "   * ignoring torsion\n",
    "    "
   ]
  },
  {
   "cell_type": "markdown",
   "id": "9fb454f0",
   "metadata": {},
   "source": [
    "Constants:"
   ]
  },
  {
   "cell_type": "code",
   "execution_count": 9,
   "id": "c37fcaa3",
   "metadata": {},
   "outputs": [],
   "source": [
    "wingLength = 6\n",
    "jointStartLocation = 3\n",
    "jointSize = 0.5\n",
    "wingRadius = 2\n",
    "angleOfWing = 0.2\n",
    "height = 1 \n",
    "weight = 48 #units = mg \n",
    "load = 2\n",
    "young = 1 \n",
    "j_young = 5\n",
    "air_load = 5\n",
    "wingWeight = 0.8"
   ]
  },
  {
   "cell_type": "code",
   "execution_count": 3,
   "id": "33074335",
   "metadata": {},
   "outputs": [],
   "source": [
    "def wingSim(wingWeight, young, j_young, air_load, wingLength, jointStartLocation, jointSize, wingRadius, angleOfWing):\n",
    "    daMoment = getSecondMomemnt(wingRadius)\n",
    "    wDistrib = wingWeight/ wingLength\n",
    "    totalD = wDistrib + air_load\n",
    "    #incorporating the angle change\n",
    "    trueTotalD = totalD * cos(angleOfWing)\n",
    "    themSupports = getSupportReactions(trueTotalD, wingLength)\n",
    "    listODeflections = getDeflection(young, j_young, trueTotalD, wingLength, jointStartLocation, jointSize, daMoment)\n",
    "    "
   ]
  },
  {
   "cell_type": "code",
   "execution_count": 4,
   "id": "31e8cfbb",
   "metadata": {},
   "outputs": [],
   "source": [
    "def getSupportReactions(totalD, wingLength):\n",
    "    x, y = symbols('x'), symbols('y')\n",
    "    #since there are no forces in the x-direction, the support in the d direction would be 0\n",
    "    xSup = 0\n",
    "    ySup = integrate(totalD, (x, 0, wingLength)) \n",
    "\n",
    "    #we can integrate the total distribution over the length of the wing to find the moment\n",
    "    mSup = integrate(totalD * x, (x, 0, wingLength))\n",
    "    return [xSup, ySup, mSup]"
   ]
  },
  {
   "cell_type": "markdown",
   "id": "c9c41b90",
   "metadata": {},
   "source": [
    "Calculating the second moment of area - I:\n",
    "\n",
    "Assumption: circular cross section \n"
   ]
  },
  {
   "cell_type": "code",
   "execution_count": 5,
   "id": "71d3af18",
   "metadata": {},
   "outputs": [],
   "source": [
    "def getSecondMomemnt(wingRadius):\n",
    "    return (pi/4 ) * (wingRadius ** 4)"
   ]
  },
  {
   "cell_type": "code",
   "execution_count": 6,
   "id": "4c623ff3",
   "metadata": {},
   "outputs": [],
   "source": [
    "def getDeflection(young, j_young, trueTotalD, wingLength, jointStartLocation, jointSize, daMoment):\n",
    "    \n",
    "    x, y = symbols('x'), symbols('y')\n",
    "    #Calculating Moment. Suppose cut at x. Only one cut necessary since the moment doesn't depend on material properties.\n",
    "    momentExpr = -trueTotalD * ((wingLength - x)**2)*(1/2)\n",
    "    print(momentExpr)\n",
    "\n",
    "    #between x = 0 to x = jointStartLocation (assuming JointStartLocation < wingLength)\n",
    "    deflectionExpr1 = calculateDeflection(young, momentExpr, daMoment)\n",
    "    #both constants of integration = 0 since at x = 0, v(x) = 0 and dv/dx = 0\n",
    "\n",
    "    #at the joint (between jointStartLocation and (jointStartLocation + jointLength))\n",
    "    draftdeflectionExpr2 = calculateDeflection(j_young, momentExpr, daMoment)\n",
    "    \n",
    "    #at x = jointStartLocation, d(deflectionExpr1)/dx = d(deflectionExpr2), so the first constant is them subtracted from each other\n",
    "    c1 = diff(deflectionExpr1, x).subs(x, jointStartLocation) - diff(draftdeflectionExpr2, x).subs(x, jointStartLocation)\n",
    "    draftdeflectionExpr2 += c1 * x\n",
    "    \n",
    "    #at x = jointStartLocation, deflectionExpr1 = deflectionExpr2, so the second constant is them subtracted from each other\n",
    "    c2 = deflectionExpr1.subs(x, jointStartLocation) - draftdeflectionExpr2.subs(x, jointStartLocation)\n",
    "    deflectionExpr2 = draftdeflectionExpr2 + c2\n",
    "\n",
    "    #calcuting deflection between (jointStartLocation + jointLength) and the end (wingLength)\n",
    "    draftdeflectionExpr3 = calculateDeflection(young, momentExpr, daMoment)\n",
    "    #at x = jointStartLocation + jointSize, d(deflectionExpr1)/dx = d(deflectionExpr2), so the third constant is them subtracted from each other\n",
    "    c3 = diff(deflectionExpr2, x).subs(x, (jointStartLocation + jointSize)) - diff(draftdeflectionExpr3, x).subs(x, (jointStartLocation + jointSize))\n",
    "    draftdeflectionExpr2 += c3 * x\n",
    "    \n",
    "    #at x = jointStartLocation + jointSize, deflectionExpr1 = deflectionExpr2, so the fourth constant is them subtracted from each other\n",
    "    c4 = deflectionExpr2.subs(x, (jointStartLocation + jointSize)) - draftdeflectionExpr3.subs(x, (jointStartLocation + jointSize))\n",
    "    deflectionExpr3 = draftdeflectionExpr3 + c4\n",
    "    \n",
    "    print(deflectionExpr1)\n",
    "    print(deflectionExpr2)\n",
    "    print(deflectionExpr3)\n",
    "    return [deflectionExpr1, deflectionExpr2, deflectionExpr3]"
   ]
  },
  {
   "cell_type": "code",
   "execution_count": 7,
   "id": "aec064d5",
   "metadata": {},
   "outputs": [],
   "source": [
    "def calculateDeflection(young, momentExpression, daSecondMoment):\n",
    "    #integrate twice since EI * d^2(v)/dx^2 = M(x)     \n",
    "    return (1/(young * daSecondMoment)) * integrate(integrate(momentExpression))"
   ]
  },
  {
   "cell_type": "code",
   "execution_count": 8,
   "id": "14e5413b",
   "metadata": {},
   "outputs": [
    {
     "name": "stdout",
     "output_type": "stream",
     "text": [
      "-2.51550421645919*(6 - x)**2\n",
      "(-0.209625351371599*x**4 + 5.03100843291837*x**3 - 45.2790758962654*x**2)/(4*pi)\n",
      "-31.6953531273858*x/pi + (-0.209625351371599*x**4 + 5.03100843291837*x**3 - 45.2790758962654*x**2)/(20*pi) + 37.3552376144189/pi\n",
      "(-0.209625351371599*x**4 + 5.03100843291837*x**3 - 45.2790758962654*x**2)/(4*pi) + 0.505721160183995/pi\n"
     ]
    }
   ],
   "source": [
    "wingSim(wingWeight, young, j_young, air_load, wingLength, jointStartLocation, jointSize, wingRadius, angleOfWing)"
   ]
  }
 ],
 "metadata": {
  "kernelspec": {
   "display_name": "Python 3 (ipykernel)",
   "language": "python",
   "name": "python3"
  },
  "language_info": {
   "codemirror_mode": {
    "name": "ipython",
    "version": 3
   },
   "file_extension": ".py",
   "mimetype": "text/x-python",
   "name": "python",
   "nbconvert_exporter": "python",
   "pygments_lexer": "ipython3",
   "version": "3.9.12"
  }
 },
 "nbformat": 4,
 "nbformat_minor": 5
}
