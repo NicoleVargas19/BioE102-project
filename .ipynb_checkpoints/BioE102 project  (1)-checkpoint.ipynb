{
 "cells": [
  {
   "cell_type": "code",
   "execution_count": 20,
   "id": "91a89e4a",
   "metadata": {},
   "outputs": [],
   "source": [
    "import numpy as np\n",
    "from sympy import *"
   ]
  },
  {
   "cell_type": "markdown",
   "id": "7530e838",
   "metadata": {},
   "source": [
    "# Modeling the deformation of an Insect's wing"
   ]
  },
  {
   "cell_type": "markdown",
   "id": "7b8886e9",
   "metadata": {},
   "source": [
    "Background:\n",
    "\n",
    "-Wing is modeled as a cantilever beam with a point load at the free end or distributed load?\n",
    "\n",
    "\n",
    "\n"
   ]
  },
  {
   "cell_type": "markdown",
   "id": "8a5cbf64",
   "metadata": {},
   "source": [
    "Deflection dependent on:\n",
    "\n",
    "    -length of beam\n",
    "    -load\n",
    "    -EI (Young's modulus, wing's second moment of area) (bending stiffness)\n",
    "    \n"
   ]
  },
  {
   "cell_type": "code",
   "execution_count": 2,
   "id": "57227ad2",
   "metadata": {},
   "outputs": [],
   "source": [
    "class BugWing:\n",
    "\n",
    "    def __init__(self, w_len, height, joint, young, j_young, d_load):\n",
    "        #To calculate Moment of Inertia (Izz)\n",
    "        self.w_len = w_len #aka base\n",
    "        self.height = height\n",
    "\n",
    "        #If location == joint, use softer E to calculate dflctn. Track \n",
    "        self.joint = joint\n",
    "        self.young = young\n",
    "        self.j_young = j_young #only used once.\n",
    "\n",
    "        self.d_load = d_load \n",
    "        self.segmnt_lst = [] \n",
    "\n",
    "    def calc_Izz(self): #moment of inertia, rectangle is Izz = bh^3 / 12\n",
    "        return (self.w_len * (self.height)**3) / 12\n",
    "\n",
    "    def create_segments(self): #divides wing length into list of wingsegment objects of 2mm length. 2mm ARBITRARY\n",
    "        i, length = 0, self.w_len\n",
    "        while length >= 2: #in millimeters\n",
    "            self.segmnt_lst[i] = WingSegment(3, HOW) #weight force = mass*9.8. WHAT UNITS??\n",
    "            length -= 3\n",
    "            i += 1\n",
    "        if length > 0:\n",
    "            self.segmnt_lst[i] = WingSegment(length, 0)\n",
    "        return self.segmnt_lst\n"
   ]
  },
  {
   "cell_type": "code",
   "execution_count": 9,
   "id": "414c643a",
   "metadata": {},
   "outputs": [],
   "source": [
    "class WingSegment(BugWing):\n",
    "    #all segs are v short. choose standardized length. \n",
    "        #right side of ea. beam is cantilevered support\n",
    "        #left side is unsupported. \n",
    "        #left side has force of weight of remaining wing length EXCEPT for the last segment\n",
    "    \n",
    "    def __init__(self, s_len, weight, angle = 0, dflctn = 0):\n",
    "        self.dflctn = dflctn\n",
    "        self.angle = angle #ANGLE CALCULATION UNNECESSARY??\n",
    "        self.weight = weight\n",
    "        self.s_len = s_len\n",
    "\n",
    "        super().__init__()\n",
    "\n",
    "    \n",
    "    def calc_dflctn(self): # v(x) =  ∫∫M(x) / E*I\n",
    "        init_printing(use_unicode=False, wrap_line=False) #what is this\n",
    "        x = Symbol('x')\n",
    "        #what is M(x) ?? M(x) = -(L-x)*(W+q(x))/(2*(L-x))\n",
    "        bend_eqn = -(self.s_len - x) * (self.weight + self.d_load / 2*(self.s_len - x))\n",
    "        dflctn_eqn = integrate(integrate(bend_eqn)) / (self.young * self.calc_Izz())\n",
    "        return dflctn_eqn.evalf(subs={x: self.s_len})\n",
    "    \n",
    "    #Updates the dflctn and force angle for each segment in segmnt_lst\n",
    "    def apply(self): \n",
    "        i, lst = 0, BugWing.segmnt_lst\n",
    "        while lst[i+1]: \n",
    "            lst[i].dflctn = self.calc_dflctn()\n",
    "            #ANGLE CALCULATION UNNECESSARY?\n",
    "            lst[i+1].angle = 2*asin((0.5 * lst[i].dflctn) / lst[i].length) #assuming lengths are same. HOW FOR LAST SEGMENT? \n",
    "            i += 1\n",
    "        lst[i].dflctn = self.calc_dflctn() #run for last segment\n",
    "\n",
    "        return BugWing.segmnt_lst"
   ]
  },
  {
   "cell_type": "code",
   "execution_count": 10,
   "id": "de8c5023",
   "metadata": {},
   "outputs": [],
   "source": [
    "# Constant variables:\n",
    "E = 1\n",
    "\n",
    "wing1 = BugWing(1, 1, 1, 1, 1, 1)\n",
    "wing1.calc_dflct n\n"
   ]
  },
  {
   "cell_type": "code",
   "execution_count": 11,
   "id": "924b114b",
   "metadata": {},
   "outputs": [
    {
     "ename": "IndentationError",
     "evalue": "unexpected indent (3660591683.py, line 2)",
     "output_type": "error",
     "traceback": [
      "\u001b[0;36m  File \u001b[0;32m\"/tmp/ipykernel_605/3660591683.py\"\u001b[0;36m, line \u001b[0;32m2\u001b[0m\n\u001b[0;31m    x = Symbol('x')\u001b[0m\n\u001b[0m    ^\u001b[0m\n\u001b[0;31mIndentationError\u001b[0m\u001b[0;31m:\u001b[0m unexpected indent\n"
     ]
    }
   ],
   "source": [
    "init_printing(use_unicode=False, wrap_line=False) #what is this\n",
    "        x = Symbol('x')\n",
    "        #what is M(x) ?? M(x) = -(L-x)*(W+q(x))/(2*(L-x))\n",
    "        bend_eqn = -(self.s_len - x) * (self.weight + self.d_load / 2*(self.s_len - x))\n",
    "        dflctn_eqn = integrate(integrate(bend_eqn)) / (self.young * self.calc_Izz())\n",
    "        return dflctn_eqn.evalf(subs={x: self.s_len})"
   ]
  },
  {
   "cell_type": "code",
   "execution_count": 15,
   "id": "d9b2a029",
   "metadata": {},
   "outputs": [],
   "source": [
    "w_len = 1\n",
    "height = 1 \n",
    "weight = 3\n",
    "load = 2\n",
    "young = 1 \n",
    "\n",
    "def calc_Izz(): #moment of inertia, rectangle is Izz = bh^3 / 12\n",
    "        return (w_len * (height)**3) / 12\n"
   ]
  },
  {
   "cell_type": "code",
   "execution_count": 25,
   "id": "022e0dce",
   "metadata": {},
   "outputs": [],
   "source": [
    "def calc_dflctn(): # v(x) =  ∫∫M(x) / E*I\n",
    "#     init_printing(use_unicode=False, wrap_line=False) #what is this\n",
    "    x = Symbol('x')\n",
    "    #what is M(x) ?? M(x) = -(L-x)*(W+q(x))/(2*(L-x))\n",
    "    bend_eqn = -(w_len - x) * (weight + load / 2*(w_len - x))\n",
    "    dflctn_eqn = integrate(integrate(bend_eqn)) / (young * calc_Izz())\n",
    "    return dflctn_eqn.evalf(subs={x: w_len})"
   ]
  },
  {
   "cell_type": "code",
   "execution_count": 26,
   "id": "1705d5c9",
   "metadata": {},
   "outputs": [
    {
     "data": {
      "text/latex": [
       "$\\displaystyle -15.0$"
      ],
      "text/plain": [
       "-15.0000000000000"
      ]
     },
     "execution_count": 26,
     "metadata": {},
     "output_type": "execute_result"
    }
   ],
   "source": [
    "calc_dflctn()"
   ]
  },
  {
   "cell_type": "code",
   "execution_count": null,
   "id": "1332b11b",
   "metadata": {},
   "outputs": [],
   "source": []
  }
 ],
 "metadata": {
  "kernelspec": {
   "display_name": "Python 3 (ipykernel)",
   "language": "python",
   "name": "python3"
  },
  "language_info": {
   "codemirror_mode": {
    "name": "ipython",
    "version": 3
   },
   "file_extension": ".py",
   "mimetype": "text/x-python",
   "name": "python",
   "nbconvert_exporter": "python",
   "pygments_lexer": "ipython3",
   "version": "3.9.12"
  }
 },
 "nbformat": 4,
 "nbformat_minor": 5
}
