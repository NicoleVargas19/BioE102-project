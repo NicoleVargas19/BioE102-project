{
 "cells": [
  {
   "cell_type": "code",
   "execution_count": 1,
   "id": "91a89e4a",
   "metadata": {},
   "outputs": [],
   "source": [
    "import numpy as np\n",
    "from sympy import *"
   ]
  },
  {
   "cell_type": "markdown",
   "id": "7530e838",
   "metadata": {},
   "source": [
    "# Modeling the deformation of an Insect's wing"
   ]
  },
  {
   "cell_type": "markdown",
   "id": "7b8886e9",
   "metadata": {},
   "source": [
    "Background:\n",
    "\n",
    "-Wing is modeled as a rectangular cantilever beam with a joint and a point load at the free end  \n",
    "\n",
    "\n",
    "\n"
   ]
  },
  {
   "cell_type": "markdown",
   "id": "8a5cbf64",
   "metadata": {},
   "source": [
    "Deflection dependent on:\n",
    "\n",
    "    -length of beam\n",
    "    -load\n",
    "    -EI (Young's modulus, wing's second moment of area) (bending stiffness)\n",
    "    \n"
   ]
  },
  {
   "cell_type": "markdown",
   "id": "e4d818db",
   "metadata": {},
   "source": [
    "Purpose ? \n",
    "\n",
    "--varying EI or choose two different models (one with joint or wo joint) and see how much the delfection changes) \n",
    "\n",
    "--discuss what the best model + bending stiffess constants (or varying EI(x)) could be for an efficient micro aerial vehicle \n",
    "\n",
    "--choose a model and parameters based on research + just our idea that could make for an efficient micro aerial vehicle \n",
    "\n"
   ]
  },
  {
   "cell_type": "markdown",
   "id": "9fb454f0",
   "metadata": {},
   "source": [
    "Constants:"
   ]
  },
  {
   "cell_type": "code",
   "execution_count": 11,
   "id": "c37fcaa3",
   "metadata": {},
   "outputs": [],
   "source": [
    "w_len = 1\n",
    "height = 1 \n",
    "weight = 3\n",
    "load = 2\n",
    "young = 1 "
   ]
  },
  {
   "cell_type": "markdown",
   "id": "c9c41b90",
   "metadata": {},
   "source": [
    "Calculating the second moment of area - I:\n"
   ]
  },
  {
   "cell_type": "code",
   "execution_count": 12,
   "id": "62edba17",
   "metadata": {},
   "outputs": [],
   "source": [
    "def calc_Izz(): #Izz = bh^3 / 12 rectangle\n",
    "    return (w_len * (height)**3) / 12"
   ]
  },
  {
   "cell_type": "code",
   "execution_count": 13,
   "id": "7f18dfd4",
   "metadata": {},
   "outputs": [
    {
     "name": "stdout",
     "output_type": "stream",
     "text": [
      "0.08333333333333333\n"
     ]
    }
   ],
   "source": [
    "I = calc_Izz()\n",
    "print(I)"
   ]
  },
  {
   "cell_type": "code",
   "execution_count": 16,
   "id": "e14e63be",
   "metadata": {},
   "outputs": [],
   "source": [
    "def wingSim(wingWeight, young, j_young, air_load, wingLength, jointStartLocation, jointSize, wingRadius, angleOfWing):\n",
    "    daMoment = getSecondMomemnt(wingRadius)\n",
    "    wDistrib = wingWeight / wingLength\n",
    "    totalD = wDistrib + air_load\n",
    "    #incorporating the angle change\n",
    "    trueTotalD = totalD * cos(angleOfWing)\n",
    "    themSupports = getSupportReactions(trueTotalD, wingLength)\n",
    "    listODeflections = getDeflection(wingWeight, young, j_young, trueTotalD, wingLength, jointStartLocation, jointSize, daMoment)\n",
    "    for i in listODeflections:\n",
    "        print(listODeflections[i])\n",
    "    return 0"
   ]
  },
  {
   "cell_type": "code",
   "execution_count": null,
   "id": "71d3af18",
   "metadata": {},
   "outputs": [],
   "source": []
  },
  {
   "cell_type": "code",
   "execution_count": 14,
   "id": "71e111c2",
   "metadata": {},
   "outputs": [],
   "source": [
    "def calc_dflctn(): # v(x) =  ∫∫M(x) / E*I\n",
    "    x = Symbol('x')\n",
    "    #M(x) = -(L-x)*(W+q(x))/(2*(L-x))\n",
    "    bend_eqn = -(w_len - x) * (weight + load / 2*(w_len - x))\n",
    "    dflctn_eqn = integrate(integrate(bend_eqn)) / (young * calc_Izz())\n",
    "    return dflctn_eqn.evalf(subs={x: w_len})"
   ]
  },
  {
   "cell_type": "code",
   "execution_count": 15,
   "id": "1705d5c9",
   "metadata": {},
   "outputs": [
    {
     "data": {
      "image/png": "[encoded data removed]",
      "text/latex": [
       "$\\displaystyle -15.0$"
      ],
      "text/plain": [
       "-15.0000000000000"
      ]
     },
     "execution_count": 15,
     "metadata": {},
     "output_type": "execute_result"
    }
   ],
   "source": [
    "calc_dflctn()"
   ]
  },
  {
   "cell_type": "code",
   "execution_count": null,
   "id": "4c623ff3",
   "metadata": {},
   "outputs": [],
   "source": []
  }
 ],
 "metadata": {
  "kernelspec": {
   "display_name": "Python 3 (ipykernel)",
   "language": "python",
   "name": "python3"
  },
  "language_info": {
   "codemirror_mode": {
    "name": "ipython",
    "version": 3
   },
   "file_extension": ".py",
   "mimetype": "text/x-python",
   "name": "python",
   "nbconvert_exporter": "python",
   "pygments_lexer": "ipython3",
   "version": "3.9.12"
  }
 },
 "nbformat": 4,
 "nbformat_minor": 5
}
